{
 "cells": [
  {
   "cell_type": "markdown",
   "id": "d482c4a6",
   "metadata": {},
   "source": [
    "# Progetto\n",
    "\n",
    "\n",
    "Prendere in input un file <code>FASTQ</code> di reads di **lunghezza costante**, una **soglia di frequenza** <code>F</code> (tra 0 e 1) e una **lunghezza** <code>k</code> e produrre in output il report dell'uso dei ***k-mers*** per posizione nei reads in input. Un ***k-mer*** è una ***sottostringa di read*** di lunghezza **k**. Il **report** (possibilmente grafico) deve presentare per ciascun ***k-mer*** che ha una frequenza almeno pari a **F** (nel dataset di input) quante volte appare in ciascuna delle posizioni dei reads dalla prima a <code>L - k + 1</code> (**L**: lunghezza dei reads). Selezionare il ***k-mer*** che appare più volte in una certa posizione e produrre in un file <code>FASTA</code> i reads che lo contengono (in quella posizione)  con la loro **qualità media**. Usare <code>Biopython</code> ogni volta che è possibile."
   ]
  },
  {
   "cell_type": "markdown",
   "id": "68370fdb",
   "metadata": {},
   "source": [
    "# Import librerie"
   ]
  },
  {
   "cell_type": "code",
   "execution_count": null,
   "id": "5be1ed2b",
   "metadata": {},
   "outputs": [],
   "source": [
    "from Bio import SeqIO\n",
    "import re"
   ]
  },
  {
   "cell_type": "code",
   "execution_count": null,
   "id": "b1582b4f",
   "metadata": {},
   "outputs": [],
   "source": [
    "import matplotlib.pyplot as plt\n",
    "import numpy as np"
   ]
  },
  {
   "cell_type": "markdown",
   "id": "596d22f0",
   "metadata": {},
   "source": [
    "# Funzione di stampa per percentuali"
   ]
  },
  {
   "cell_type": "code",
   "execution_count": null,
   "id": "65c68611",
   "metadata": {},
   "outputs": [],
   "source": [
    "APPROX = 2\n",
    "perc = True\n",
    "\n",
    "def printable_percentage(f, approx, mult = True):\n",
    "    if mult:\n",
    "        f *= 100\n",
    "    f = np.round(f, approx)\n",
    "    if mult:\n",
    "        f = str(f) + \"%\"\n",
    "    return f"
   ]
  },
  {
   "cell_type": "markdown",
   "id": "40de00e0",
   "metadata": {},
   "source": [
    "# Funzione di trasformazione da *dict* a *np.array*"
   ]
  },
  {
   "cell_type": "code",
   "execution_count": null,
   "id": "373e5309",
   "metadata": {},
   "outputs": [],
   "source": [
    "def dict_to_array(freq_dict, size, freq_type = np.int32):\n",
    "    freq_array = np.zeros(size, freq_type)\n",
    "    for key, value in freq_dict.items():\n",
    "        freq_array[key] = value\n",
    "        \n",
    "    return freq_array"
   ]
  },
  {
   "cell_type": "markdown",
   "id": "34aa07e5",
   "metadata": {},
   "source": [
    "# Parametri di input"
   ]
  },
  {
   "cell_type": "code",
   "execution_count": null,
   "id": "22ec8208",
   "metadata": {},
   "outputs": [],
   "source": [
    "iPath = \"./SRR18961685-5000.fastq\"\n",
    "oPath = \"readSelected.fasta\"\n",
    "\n",
    "F = 0.001\n",
    "k = 11\n",
    "\n",
    "assert 0 <= F <= 1, f\"Frequence {F} out of range [0, 1]\""
   ]
  },
  {
   "cell_type": "markdown",
   "id": "bd3ca4c3",
   "metadata": {},
   "source": [
    "# Lettura del file ***fastq*** con ***Biopython***"
   ]
  },
  {
   "cell_type": "code",
   "execution_count": null,
   "id": "2fc9b97b",
   "metadata": {},
   "outputs": [],
   "source": [
    "fastq_content = SeqIO.parse(iPath, \"fastq\")"
   ]
  },
  {
   "cell_type": "code",
   "execution_count": null,
   "id": "9b2798e5",
   "metadata": {},
   "outputs": [],
   "source": [
    "fastq_content"
   ]
  },
  {
   "cell_type": "code",
   "execution_count": null,
   "id": "50d3a0f5",
   "metadata": {},
   "outputs": [],
   "source": [
    "indexed_content = list(fastq_content)\n",
    "n_read = len(indexed_content)\n",
    "read_length = int(re.search(r'length=(\\d+)', indexed_content[0].description).group(1))\n",
    "\n",
    "assert read_length >= k, f\"k={k} > L={read_length}\""
   ]
  },
  {
   "cell_type": "markdown",
   "id": "22a78614",
   "metadata": {},
   "source": [
    "***L***: Lunghezza dei read (costante)"
   ]
  },
  {
   "cell_type": "code",
   "execution_count": null,
   "id": "0116933c",
   "metadata": {},
   "outputs": [],
   "source": [
    "read_length"
   ]
  },
  {
   "cell_type": "markdown",
   "id": "6487c765",
   "metadata": {},
   "source": [
    "***N***: Numero dei read"
   ]
  },
  {
   "cell_type": "code",
   "execution_count": null,
   "id": "dbc946d8",
   "metadata": {},
   "outputs": [],
   "source": [
    "n_read"
   ]
  },
  {
   "cell_type": "markdown",
   "id": "be77dddf",
   "metadata": {},
   "source": [
    "# Costruzione del dizionario dei k-meri\n",
    "\n",
    "Si costruisce un **dizionario** che ha:\n",
    "\n",
    "* per **chiave** i *k-meri* estratti dai read\n",
    "* per **valore** una *lista* di due elementi:\n",
    "  * un dizionario <strong>d</strong> che ha \n",
    "    * come chiavi ***key*** le posizioni di match del k-mero;\n",
    "    * come valori ***d[key]*** il numero di match del k-mero in quella posizione\n",
    "  * la **somma** di tutti i match del k-mero\n",
    "        \n",
    "        \n",
    "\n",
    "<code>kmers_pos_freq : k-mero -> [d[i], tot_match]</code>\n",
    "\n",
    "<code>d[i] = numero di match del k-mero nella posizione i di ogni read</code>\n",
    "        \n",
    "        "
   ]
  },
  {
   "cell_type": "code",
   "execution_count": null,
   "id": "e7273ccd",
   "metadata": {},
   "outputs": [],
   "source": [
    "kmers_pos_freq = {}\n",
    "\n",
    "for record in indexed_content:\n",
    "    \n",
    "    seq_string = str(record.seq)\n",
    "    assert (len(seq_string) == read_length), f\"Error in {iPath} file: different lengths of records\"\n",
    "    \n",
    "    for i in range(len(seq_string) - k + 1):\n",
    "        \n",
    "        kmer = seq_string[i:i + k]\n",
    "        \n",
    "        if kmer in kmers_pos_freq:\n",
    "            kmers_pos_freq[kmer][0][i] = kmers_pos_freq[kmer][0].get(i, 0) + 1\n",
    "            kmers_pos_freq[kmer][1] += 1\n",
    "        else:\n",
    "            kmers_pos_freq[kmer] = [{i:1}, 1]"
   ]
  },
  {
   "cell_type": "code",
   "execution_count": null,
   "id": "8527f5d8",
   "metadata": {},
   "outputs": [],
   "source": [
    "kmers_pos_freq"
   ]
  },
  {
   "cell_type": "markdown",
   "id": "3bb54cf6",
   "metadata": {},
   "source": [
    "**Numero dei k-meri distinti** : lunghezza del dizionario dei k-meri"
   ]
  },
  {
   "cell_type": "code",
   "execution_count": null,
   "id": "f49438bb",
   "metadata": {},
   "outputs": [],
   "source": [
    "n_kmers = len(kmers_pos_freq)"
   ]
  },
  {
   "cell_type": "code",
   "execution_count": null,
   "id": "e4af3558",
   "metadata": {},
   "outputs": [],
   "source": [
    "n_kmers"
   ]
  },
  {
   "cell_type": "markdown",
   "id": "0a52f914",
   "metadata": {},
   "source": [
    "**Numero totale dei k-meri (non necessariamente distinti)**: <code>N * (L - k + 1)</code>"
   ]
  },
  {
   "cell_type": "code",
   "execution_count": null,
   "id": "f3ca973c",
   "metadata": {},
   "outputs": [],
   "source": [
    "n_kmers_appearence = 0\n",
    "for value in kmers_pos_freq.values():\n",
    "    n_kmers_appearence += value[1]\n",
    "\n",
    "assert n_kmers_appearence == (n_read * (read_length - k + 1))"
   ]
  },
  {
   "cell_type": "code",
   "execution_count": null,
   "id": "030821ea",
   "metadata": {},
   "outputs": [],
   "source": [
    "n_kmers_appearence"
   ]
  },
  {
   "cell_type": "markdown",
   "id": "9777cc64",
   "metadata": {},
   "source": [
    "## Selezione dei k-meri di frequenza minima\n",
    "\n",
    "Vengono selezionati solo i **k-meri** di frequenza maggiore o uguale <code>F</code>, dove la frequenza di un k-mero è il suo numero di apparizioni diviso il numero totale di apparizioni di tutti i k-meri.\n",
    "\n",
    "<code>kmers_pos_freq[kmer] / n_kmers_appearence >= F </code>\n",
    "\n",
    "Questa volta i **match per posizione** di ogni **k-mero** vengono memorizzate in un ***numpy-array*** <code>a</code>, dove <code>a[i] = numero di apparizioni del k-mero in posizione i</code>."
   ]
  },
  {
   "cell_type": "code",
   "execution_count": null,
   "id": "d7909b9c",
   "metadata": {},
   "outputs": [],
   "source": [
    "F = 0.0011"
   ]
  },
  {
   "cell_type": "code",
   "execution_count": null,
   "id": "910605be",
   "metadata": {},
   "outputs": [],
   "source": [
    "kmers_threshold_freq = {}\n",
    "\n",
    "for key, value in kmers_pos_freq.items():\n",
    "    if value[1]/n_kmers_appearence >= F:\n",
    "        kmers_threshold_freq[key] = [dict_to_array(value[0], read_length - k + 1), value[1]]"
   ]
  },
  {
   "cell_type": "code",
   "execution_count": null,
   "id": "c8e64179",
   "metadata": {},
   "outputs": [],
   "source": [
    "kmers_threshold_freq"
   ]
  },
  {
   "cell_type": "markdown",
   "id": "d803af09",
   "metadata": {},
   "source": [
    "**Numero dei k-meri distinti sopra la soglia minima di frequenza**"
   ]
  },
  {
   "cell_type": "code",
   "execution_count": null,
   "id": "a57bd309",
   "metadata": {},
   "outputs": [],
   "source": [
    "n_kmers_threshold = len(kmers_threshold_freq)"
   ]
  },
  {
   "cell_type": "code",
   "execution_count": null,
   "id": "423cf0c5",
   "metadata": {},
   "outputs": [],
   "source": [
    "n_kmers_threshold"
   ]
  },
  {
   "cell_type": "markdown",
   "id": "75605c12",
   "metadata": {},
   "source": [
    "**Numero totale di apparizioni dei k-meri sopra la soglia minima di frequenza**"
   ]
  },
  {
   "cell_type": "code",
   "execution_count": null,
   "id": "8842adfb",
   "metadata": {},
   "outputs": [],
   "source": [
    "n_kmers_treshold_appearence = 0\n",
    "for value in kmers_threshold_freq.values():\n",
    "    n_kmers_treshold_appearence += value[1]"
   ]
  },
  {
   "cell_type": "code",
   "execution_count": null,
   "id": "a456a8cc",
   "metadata": {},
   "outputs": [],
   "source": [
    "n_kmers_treshold_appearence"
   ]
  },
  {
   "cell_type": "markdown",
   "id": "201ea04f",
   "metadata": {},
   "source": [
    "# Analisi e plotting dei risultati\n",
    "\n",
    "Per ogni **k-mero** selezionato (o al massimo <code>maxBars</code> k-meri) viene riportato il grafico a barre che mostra **il numero di apparizioni per posizione**. Le posizioni sono **0-indexed**."
   ]
  },
  {
   "cell_type": "code",
   "execution_count": null,
   "id": "6b4aeac2",
   "metadata": {},
   "outputs": [],
   "source": [
    "columns = 2\n",
    "maxRows = 10\n",
    "\n",
    "maxBars = columns * maxRows"
   ]
  },
  {
   "cell_type": "code",
   "execution_count": null,
   "id": "8c37a76e",
   "metadata": {},
   "outputs": [],
   "source": [
    "x_values = np.empty(read_length - k + 1)\n",
    "\n",
    "for i in range(read_length - k + 1):\n",
    "    x_values[i] = i"
   ]
  },
  {
   "cell_type": "code",
   "execution_count": null,
   "id": "9c8f0c45",
   "metadata": {},
   "outputs": [],
   "source": [
    "i = 0\n",
    "length = columns\n",
    "\n",
    "for kmer in kmers_threshold_freq.keys():\n",
    "    \n",
    "    if (i % columns) == 0:\n",
    "        if i < n_kmers_threshold - columns + 1:\n",
    "            fig, axs = plt.subplots(1, columns)\n",
    "        else:\n",
    "            fig, axs = plt.subplots(1, n_kmers_threshold - i)\n",
    "            length = n_kmers_threshold - i\n",
    "        \n",
    "        fig.tight_layout()\n",
    "        \n",
    "    if length > 1:\n",
    "        axs[i%columns].set_title(kmer)\n",
    "        axs[i%columns].bar(x_values, kmers_threshold_freq[kmer][0])\n",
    "        axs[i%columns].set(xlabel='Position', ylabel='Frequence')\n",
    "    else:\n",
    "        axs.set_title(kmer)\n",
    "        axs.bar(x_values, kmers_threshold_freq[kmer][0])\n",
    "        axs.set(xlabel='Position', ylabel='Frequence')\n",
    "        \n",
    "    i = i + 1\n",
    "    if(i == maxBars):\n",
    "        break\n",
    "        "
   ]
  },
  {
   "cell_type": "markdown",
   "id": "fc9b4384",
   "metadata": {},
   "source": [
    "## Ricerca dei k-meri sopra la frequenza minima\n",
    "\n",
    "Ricerca per **prefisso** dei **k-meri** che appaiono sopra la **frequenza minima** <code>F</code>. Le percentuali si riferiscono solo ai **k-meri** sopra la **soglia minima di frequenza**."
   ]
  },
  {
   "cell_type": "code",
   "execution_count": null,
   "id": "7de382ba",
   "metadata": {},
   "outputs": [],
   "source": [
    "prefix = r\"A\""
   ]
  },
  {
   "cell_type": "code",
   "execution_count": null,
   "id": "2498e6cb",
   "metadata": {},
   "outputs": [],
   "source": [
    "print(f\"{k}-mers starting with prefix '{prefix}':\")\n",
    "print()\n",
    "matches = [match for match in list(kmers_threshold_freq.keys()) if re.match(prefix, match, re.IGNORECASE)]\n",
    "matches.sort(reverse=True, key = lambda x : kmers_threshold_freq[x][1])\n",
    "\n",
    "totAppearences = 0\n",
    "\n",
    "for kmer in matches:\n",
    "    print(f\"{kmer}: {kmers_threshold_freq[kmer][1]} appearences ({printable_percentage(kmers_threshold_freq[kmer][1]/n_kmers_treshold_appearence, APPROX, perc)})\")\n",
    "    totAppearences += kmers_threshold_freq[kmer][1]\n",
    "    \n",
    "print()\n",
    "print(f\"Total: {totAppearences} appearences on {n_kmers_treshold_appearence} ({printable_percentage(totAppearences/n_kmers_treshold_appearence, APPROX, perc)})\")"
   ]
  },
  {
   "cell_type": "markdown",
   "id": "11763fa3",
   "metadata": {},
   "source": [
    "## Analisi dei singoli k-meri\n",
    "\n",
    "**Analisi statistiche** dei dati per singoli **k-meri**."
   ]
  },
  {
   "cell_type": "code",
   "execution_count": null,
   "id": "1d9b41af",
   "metadata": {},
   "outputs": [],
   "source": [
    "kmer = \"AGGGCAGAGGG\""
   ]
  },
  {
   "cell_type": "code",
   "execution_count": null,
   "id": "3a83274d",
   "metadata": {},
   "outputs": [],
   "source": [
    "freq_array = kmers_threshold_freq.get(kmer, None)\n",
    "\n",
    "if(freq_array != None):\n",
    "    \n",
    "    print(f\"K-mer: {kmer}\")\n",
    "    print()\n",
    "    \n",
    "    print(f\"Total: {freq_array[1]} appearences on {n_kmers_appearence} total k-mers ({printable_percentage(freq_array[1]/n_kmers_appearence, APPROX, perc)})\")\n",
    "    \n",
    "    print()\n",
    "    print(f\"Mean: {np.round(np.mean(freq_array[0]), APPROX)} appearences per position\")\n",
    "    tmp = np.argmax(freq_array[0])\n",
    "    print(f\"Max: position {tmp} with {freq_array[0][tmp]} appearences ({printable_percentage(freq_array[0][tmp]/freq_array[1], APPROX, perc)})\")\n",
    "    print(f\"Standard deviation: {np.round(np.std(freq_array[0]), APPROX)}\")\n",
    "    print()\n",
    "    \n",
    "    print(f\"Quantile 1: {np.round(np.percentile(freq_array[0], 25), APPROX)}\")\n",
    "    print(f\"Median: {np.round(np.median(freq_array[0]), APPROX)}\")\n",
    "    print(f\"Quantile 3: {np.round(np.percentile(freq_array[0], 75), APPROX)}\")\n",
    "    \n",
    "    plt.bar(x_values, freq_array[0])\n",
    "    plt.ylabel('Frequence')\n",
    "    plt.xlabel('Position')\n",
    "    plt.title(kmer)\n",
    "    plt.show()\n",
    "            \n",
    "else:\n",
    "    print(kmer, \"not found\")"
   ]
  },
  {
   "cell_type": "markdown",
   "id": "4c1f4e06",
   "metadata": {},
   "source": [
    "**Ricerca numero di apparizioni** per intervallo:"
   ]
  },
  {
   "cell_type": "code",
   "execution_count": null,
   "id": "1380d342",
   "metadata": {},
   "outputs": [],
   "source": [
    "start = 13\n",
    "end = 13\n",
    "\n",
    "assert freq_array != None, f\"{kmer}: k-mer not found\"\n",
    "assert 0 <= start <= read_length - k, f\"Start position {start} out of range for [0, {read_length - k}]\"\n",
    "assert 0 <= end <= read_length - k, f\"End position {end} out of range for [0, {read_length - k}]\"\n",
    "assert start <= end, f\"start_position={start} > end_position={end}\"\n",
    "\n",
    "tmp = 0\n",
    "for pos in range(start, end + 1):\n",
    "    tmp += freq_array[0][pos]\n",
    "\n",
    "if(start == end):\n",
    "    print(f\"Position {start}: {tmp} appearence on {freq_array[1]} ({printable_percentage(tmp/freq_array[1], APPROX, perc)})\")\n",
    "else:\n",
    "    print(f\"Interval [{start}, {end}]: {tmp} appearence on {freq_array[1]} ({printable_percentage(tmp/freq_array[1], APPROX, perc)})\")"
   ]
  },
  {
   "cell_type": "markdown",
   "id": "aee0b531",
   "metadata": {},
   "source": [
    "# Ricerca k-mero/i con più apparizioni in una certa posizione"
   ]
  },
  {
   "cell_type": "markdown",
   "id": "61e58e4a",
   "metadata": {},
   "source": [
    "### Posizione scelta"
   ]
  },
  {
   "cell_type": "code",
   "execution_count": null,
   "id": "7b3e38ee",
   "metadata": {},
   "outputs": [],
   "source": [
    "position = 137\n",
    "\n",
    "assert 0 <= position <= read_length - k, f\"Position {position} out of range for interval [0, {read_length - k}]\""
   ]
  },
  {
   "cell_type": "markdown",
   "id": "9a313b3a",
   "metadata": {},
   "source": [
    "### Lista di tutti i k-meri che appaiono nella posizione scelta\n",
    "\n",
    "<code>appearence_in_pos[i] = [(kmer, frequence of kmer in position i)]"
   ]
  },
  {
   "cell_type": "code",
   "execution_count": null,
   "id": "3cd73337",
   "metadata": {},
   "outputs": [],
   "source": [
    "appearence_in_pos = [(kmer, kmers_threshold_freq[kmer][0][position]) for kmer in kmers_threshold_freq.keys() if kmers_threshold_freq[kmer][0][position] > 0]"
   ]
  },
  {
   "cell_type": "code",
   "execution_count": null,
   "id": "eb72ed02",
   "metadata": {},
   "outputs": [],
   "source": [
    "appearence_in_pos"
   ]
  },
  {
   "cell_type": "markdown",
   "id": "899572b8",
   "metadata": {},
   "source": [
    "**Numero massimo di apparizioni** nella posizione scelta:"
   ]
  },
  {
   "cell_type": "code",
   "execution_count": null,
   "id": "ea995d7a",
   "metadata": {},
   "outputs": [],
   "source": [
    "assert len(appearence_in_pos) > 0, \"Empty list\"\n",
    "\n",
    "max_appearence = max(appearence_in_pos, key = lambda x : x[1])[1]"
   ]
  },
  {
   "cell_type": "code",
   "execution_count": null,
   "id": "5a8278b6",
   "metadata": {},
   "outputs": [],
   "source": [
    "max_appearence"
   ]
  },
  {
   "cell_type": "markdown",
   "id": "d47bc237",
   "metadata": {},
   "source": [
    "### Lista dei k-meri nella posizione scelta con più apparizioni "
   ]
  },
  {
   "cell_type": "code",
   "execution_count": null,
   "id": "9d054931",
   "metadata": {},
   "outputs": [],
   "source": [
    "max_kmers_in_pos = [pair[0] for pair in appearence_in_pos if pair[1] == max_appearence]"
   ]
  },
  {
   "cell_type": "code",
   "execution_count": null,
   "id": "32c5f98f",
   "metadata": {},
   "outputs": [],
   "source": [
    "max_kmers_in_pos"
   ]
  },
  {
   "cell_type": "markdown",
   "id": "281919b8",
   "metadata": {},
   "source": [
    "### Selezione dei k-meri da ricercare nei reads\n",
    "\n",
    "Attraverso una **maschera binaria** si scelgono i k-meri con cui si andranno a selezionare i **reads** (nel caso ce ne sia più di uno). La maschera deve avere la **stessa lunghezza** di <code>max_kmers_in_pos</code>."
   ]
  },
  {
   "cell_type": "code",
   "execution_count": null,
   "id": "3654ec0c",
   "metadata": {},
   "outputs": [],
   "source": [
    "mask = (True,)\n",
    "\n",
    "assert len(mask) == len(max_kmers_in_pos), \"mask length different from list length\""
   ]
  },
  {
   "cell_type": "code",
   "execution_count": null,
   "id": "eab274cd",
   "metadata": {},
   "outputs": [],
   "source": [
    "kmers_in_pos = [max_kmers_in_pos[i] for i in range(len(max_kmers_in_pos)) if mask[i]]"
   ]
  },
  {
   "cell_type": "code",
   "execution_count": null,
   "id": "dd0b5a55",
   "metadata": {},
   "outputs": [],
   "source": [
    "kmers_in_pos"
   ]
  },
  {
   "cell_type": "markdown",
   "id": "cb96b909",
   "metadata": {},
   "source": [
    "# Selezione dei reads che contengono i k-meri nella posizione scelta"
   ]
  },
  {
   "cell_type": "markdown",
   "id": "3607e1e9",
   "metadata": {},
   "source": [
    "### Selezione dei reads\n",
    "\n",
    "Salvataggio dei **reads selezionati** nella lista <code>read_selected</code>."
   ]
  },
  {
   "cell_type": "code",
   "execution_count": null,
   "id": "a053a5df",
   "metadata": {},
   "outputs": [],
   "source": [
    "read_selected = []\n",
    "\n",
    "for record in indexed_content:\n",
    "    seq_string = str(record.seq)\n",
    "    \n",
    "    for kmer in kmers_in_pos:\n",
    "        \n",
    "        if seq_string[position : position + k] == kmer:\n",
    "            read_selected.append(record)\n",
    "            break"
   ]
  },
  {
   "cell_type": "code",
   "execution_count": null,
   "id": "c7ab6680",
   "metadata": {},
   "outputs": [],
   "source": [
    "print(f\"N° reads selected: {len(read_selected)}\")"
   ]
  },
  {
   "cell_type": "markdown",
   "id": "29ee70ed",
   "metadata": {},
   "source": [
    "# Calcolo delle qualità medie per ogni read selezionato"
   ]
  },
  {
   "cell_type": "markdown",
   "id": "e957ead9",
   "metadata": {},
   "source": [
    "La classe **SeqRecord** permette di accedere alle qualità di ogni di base di un read tramite l'attributo <code>letter_annotations</code>."
   ]
  },
  {
   "cell_type": "code",
   "execution_count": null,
   "id": "27c134aa",
   "metadata": {},
   "outputs": [],
   "source": [
    "assert len(read_selected) > 0, \"0 reads selected\"\n",
    "\n",
    "read_selected[0].letter_annotations"
   ]
  },
  {
   "cell_type": "markdown",
   "id": "46ca250e",
   "metadata": {},
   "source": [
    "**Chiave** del dizionario che raccoglie le qualità:"
   ]
  },
  {
   "cell_type": "code",
   "execution_count": null,
   "id": "360cd729",
   "metadata": {},
   "outputs": [],
   "source": [
    "key = str(list(read_selected[0].letter_annotations.keys())[0])"
   ]
  },
  {
   "cell_type": "code",
   "execution_count": null,
   "id": "3ea7d81e",
   "metadata": {},
   "outputs": [],
   "source": [
    "key"
   ]
  },
  {
   "cell_type": "markdown",
   "id": "c2aa68dc",
   "metadata": {},
   "source": [
    "Lista delle **qualità medie** per ogni read selezionato:"
   ]
  },
  {
   "cell_type": "code",
   "execution_count": null,
   "id": "52ccd927",
   "metadata": {},
   "outputs": [],
   "source": [
    "indexed_mean_qual = [np.mean(record.letter_annotations[key]) for record in read_selected]"
   ]
  },
  {
   "cell_type": "code",
   "execution_count": null,
   "id": "98884a8e",
   "metadata": {},
   "outputs": [],
   "source": [
    "indexed_mean_qual"
   ]
  },
  {
   "cell_type": "markdown",
   "id": "e4200e8f",
   "metadata": {},
   "source": [
    "Estrazione dell'**identificatore di sequenza**"
   ]
  },
  {
   "cell_type": "code",
   "execution_count": null,
   "id": "412dc808",
   "metadata": {},
   "outputs": [],
   "source": [
    "reads_id = re.search(r'(\\w+)\\.', read_selected[0].id).group(1)"
   ]
  },
  {
   "cell_type": "code",
   "execution_count": null,
   "id": "de24d777",
   "metadata": {},
   "outputs": [],
   "source": [
    "reads_id"
   ]
  },
  {
   "cell_type": "markdown",
   "id": "1560f52b",
   "metadata": {},
   "source": [
    "# Plotting e analisi delle qualità medie\n",
    "\n",
    "Ogni **read** viene enumerato con un indice in <code>[0, len(indexed_mean_qual) - 1]</code>."
   ]
  },
  {
   "cell_type": "code",
   "execution_count": null,
   "id": "8caf070f",
   "metadata": {},
   "outputs": [],
   "source": [
    "print(f\"Mean of mean qualities: {np.round(np.mean(indexed_mean_qual), APPROX)}\")\n",
    "      \n",
    "tmp = np.argmax(indexed_mean_qual)\n",
    "print(f\"Max: {np.round(indexed_mean_qual[tmp], APPROX)} (index {tmp})\")\n",
    "      \n",
    "tmp = np.argmin(indexed_mean_qual)\n",
    "print(f\"Min: {np.round(indexed_mean_qual[tmp], APPROX)} (index {tmp})\")\n",
    "      \n",
    "print(f\"Standard deviation: {np.round(np.std(indexed_mean_qual), APPROX)}\")\n",
    "\n",
    "plt.bar(range(len(indexed_mean_qual)), indexed_mean_qual)\n",
    "plt.ylabel('Mean quality')\n",
    "plt.xlabel('Index')\n",
    "plt.title(reads_id)\n",
    "plt.show()"
   ]
  },
  {
   "cell_type": "code",
   "execution_count": null,
   "id": "84cc2056",
   "metadata": {},
   "outputs": [],
   "source": [
    "index = 11\n",
    "assert 0 <= index < len(indexed_mean_qual), f\"index out of range for [0, {len(indexed_mean_qual) - 1}]\"\n",
    "\n",
    "print(\"Index: \", index)\n",
    "print()\n",
    "print(\"Mean quality:\", np.round(indexed_mean_qual[index], APPROX))\n",
    "print(f\"Read: '{read_selected[index].seq}'\")"
   ]
  },
  {
   "cell_type": "markdown",
   "id": "88040680",
   "metadata": {},
   "source": [
    "# Scrittura del file *fasta* con le qualità medie"
   ]
  },
  {
   "cell_type": "markdown",
   "id": "3ef3b66e",
   "metadata": {},
   "source": [
    "Aggiunta del dato riguardante le **qualità medie** nel commento di ogni **record**:"
   ]
  },
  {
   "cell_type": "code",
   "execution_count": null,
   "id": "b5587c1a",
   "metadata": {},
   "outputs": [],
   "source": [
    "for i in range(len(read_selected)):\n",
    "    read_selected[i].description += f\" mean_quality={indexed_mean_qual[i]}\""
   ]
  },
  {
   "cell_type": "code",
   "execution_count": null,
   "id": "aafb0a5f",
   "metadata": {},
   "outputs": [],
   "source": [
    "read_selected[0].description"
   ]
  },
  {
   "cell_type": "markdown",
   "id": "dc31a786",
   "metadata": {},
   "source": [
    "**Scrittura** del **file**:"
   ]
  },
  {
   "cell_type": "code",
   "execution_count": null,
   "id": "765a55a0",
   "metadata": {},
   "outputs": [],
   "source": [
    "SeqIO.write(read_selected, oPath, \"fasta\")"
   ]
  },
  {
   "cell_type": "code",
   "execution_count": null,
   "id": "8bb2216f",
   "metadata": {},
   "outputs": [],
   "source": []
  }
 ],
 "metadata": {
  "kernelspec": {
   "display_name": "Python 3 (ipykernel)",
   "language": "python",
   "name": "python3"
  },
  "language_info": {
   "codemirror_mode": {
    "name": "ipython",
    "version": 3
   },
   "file_extension": ".py",
   "mimetype": "text/x-python",
   "name": "python",
   "nbconvert_exporter": "python",
   "pygments_lexer": "ipython3",
   "version": "3.9.13"
  }
 },
 "nbformat": 4,
 "nbformat_minor": 5
}
